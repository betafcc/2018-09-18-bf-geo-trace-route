{
 "cells": [
  {
   "cell_type": "code",
   "execution_count": 1,
   "metadata": {},
   "outputs": [],
   "source": [
    "from itertools import dropwhile, chain\n",
    "from operator import attrgetter\n",
    "\n",
    "from geoip2.database import Reader\n",
    "from ipyleaflet import Map, Marker, Polygon, basemaps\n",
    "\n",
    "from src import traceroute, unique_justseen, my_ip, iter_deque"
   ]
  },
  {
   "cell_type": "code",
   "execution_count": 2,
   "metadata": {},
   "outputs": [],
   "source": [
    "reader = Reader('./data/GeoLite2-City.mmdb')"
   ]
  },
  {
   "cell_type": "code",
   "execution_count": 3,
   "metadata": {},
   "outputs": [],
   "source": [
    "def geo_trace(host):\n",
    "    _ = better_trace(host)\n",
    "    _ = map(geoip, _)\n",
    "    _ = unique_justseen(_)\n",
    "    return _\n",
    "\n",
    "\n",
    "def better_trace(host):\n",
    "    _ = traceroute(host)\n",
    "    _ = dropwhile(lambda s: s.startswith('192.168'), _)\n",
    "    _ = chain([my_ip()], _)\n",
    "    _ = unique_justseen(_)\n",
    "    return _\n",
    "\n",
    "\n",
    "def geoip(ip):\n",
    "    l = reader.city(ip).location\n",
    "    return (l.latitude, l.longitude)"
   ]
  },
  {
   "cell_type": "code",
   "execution_count": 8,
   "metadata": {},
   "outputs": [],
   "source": [
    "def geo_trace_map(host):\n",
    "    m = Map(zoom=1, basemap=basemaps.CartoDB.DarkMatter)\n",
    "    display(m)\n",
    "\n",
    "    first = True\n",
    "    for a, b in iter_deque(geo_trace(host), 2):\n",
    "        if first:\n",
    "            m += Marker(location=a, draggable=False)\n",
    "            first = False\n",
    "        m += Marker(location=b, draggable=False)\n",
    "        m += Polygon(locations=[a, b])\n",
    "    return m"
   ]
  },
  {
   "cell_type": "code",
   "execution_count": 9,
   "metadata": {},
   "outputs": [
    {
     "data": {
      "application/vnd.jupyter.widget-view+json": {
       "model_id": "052e0957a688462ab76f82acd67900e9",
       "version_major": 2,
       "version_minor": 0
      },
      "text/plain": [
       "Map(basemap={'url': 'http://c.basemaps.cartocdn.com/dark_all/{z}/{x}/{y}.png', 'max_zoom': 19, 'attribution': …"
      ]
     },
     "metadata": {},
     "output_type": "display_data"
    }
   ],
   "source": [
    "geo_trace_map('cnn.co.jp')  # japanese cnn site"
   ]
  },
  {
   "cell_type": "markdown",
   "metadata": {},
   "source": [
    "![](./output.png)"
   ]
  },
  {
   "cell_type": "code",
   "execution_count": null,
   "metadata": {},
   "outputs": [],
   "source": []
  },
  {
   "cell_type": "code",
   "execution_count": null,
   "metadata": {},
   "outputs": [],
   "source": []
  }
 ],
 "metadata": {
  "kernelspec": {
   "display_name": "Python 3",
   "language": "python",
   "name": "python3"
  },
  "language_info": {
   "codemirror_mode": {
    "name": "ipython",
    "version": 3
   },
   "file_extension": ".py",
   "mimetype": "text/x-python",
   "name": "python",
   "nbconvert_exporter": "python",
   "pygments_lexer": "ipython3",
   "version": "3.7.0"
  }
 },
 "nbformat": 4,
 "nbformat_minor": 2
}
